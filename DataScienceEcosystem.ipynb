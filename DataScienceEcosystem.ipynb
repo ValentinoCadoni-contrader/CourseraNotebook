{
 "cells": [
  {
   "cell_type": "markdown",
   "id": "287686f2-d490-4933-9027-c2a67df000f5",
   "metadata": {
    "tags": []
   },
   "source": [
    "***Exercise 2: Create markdown cell with title of the notebook***"
   ]
  },
  {
   "cell_type": "markdown",
   "id": "fcce53d6-324c-46f5-8612-067f47206826",
   "metadata": {},
   "source": [
    "# Data Science Tools and Ecosystem"
   ]
  },
  {
   "cell_type": "markdown",
   "id": "9e4ebd7b-2333-4a7b-8e71-44c4408efb84",
   "metadata": {},
   "source": [
    "***Exercise 3 - Create a markdown cell for an introduction***"
   ]
  },
  {
   "cell_type": "markdown",
   "id": "bf5cb828-fd1f-4635-8aa7-42c5f8efc7be",
   "metadata": {},
   "source": [
    "In this notebook, Data Science Tools and Ecosystem are summarized."
   ]
  },
  {
   "cell_type": "markdown",
   "id": "64ae7dff-4f56-4bde-a87c-938a251e81c7",
   "metadata": {},
   "source": [
    "***Exercise 10 - Insert a markdown cell to list Objectives***"
   ]
  },
  {
   "cell_type": "markdown",
   "id": "8a7c34d2-cb93-4981-a4ae-c6b75266dd35",
   "metadata": {},
   "source": [
    "**Objectives:**\n",
    "\n",
    "* List popular languages for Data Science\n",
    "* Table with three open source tools used in data science\n",
    "* A simple arithmetic expression in Python"
   ]
  },
  {
   "cell_type": "markdown",
   "id": "5f74dc32-c4fc-497e-90c0-2adcf3ae186d",
   "metadata": {},
   "source": [
    "***Exercise 4 - Create a markdown cell to list data science languages***"
   ]
  },
  {
   "cell_type": "markdown",
   "id": "e1a9c41a-ca30-45a3-af23-71f6760f8bbe",
   "metadata": {},
   "source": [
    "Some of the popular languages that Data Scientists use are:\n",
    "\n",
    "1. Python\n",
    "2. R\n",
    "3. SQL\n",
    "4. Visual Basic\n",
    "5. Julia\n",
    "6. C\n",
    "7. C++\n",
    "8. Java"
   ]
  },
  {
   "cell_type": "markdown",
   "id": "a29fead6-f09b-4672-bbea-7a01428cec39",
   "metadata": {},
   "source": [
    "***Exercise 5 - Create a markdown cell to list data science libraries***"
   ]
  },
  {
   "cell_type": "markdown",
   "id": "6da057a0-5e4b-443f-946e-b623d043d757",
   "metadata": {},
   "source": [
    "Some of the commonly used libraries used by Data Scientists include:\n",
    "\n",
    "1. Pandas\n",
    "2. PyCharm\n",
    "3. NumPy\n",
    "4. SciPy\n",
    "5. PyTorch\n",
    "6. Keras"
   ]
  },
  {
   "cell_type": "markdown",
   "id": "57532fcb-7da2-4981-9907-d01ef37bbde9",
   "metadata": {},
   "source": [
    "***Exercise 6 - Create a markdown cell with a table of Data Science tools***"
   ]
  },
  {
   "cell_type": "markdown",
   "id": "a7ab5e2a-abe2-4069-86ca-225bf4776e82",
   "metadata": {},
   "source": [
    "| Data Science Tools |\n",
    "|--------------------|\n",
    "| JupyterLab |\n",
    "| RStudio |\n",
    "| Spyder |"
   ]
  },
  {
   "cell_type": "markdown",
   "id": "44bb0c1c-2a63-460d-9109-b9f2893c2dc1",
   "metadata": {},
   "source": [
    "***Exercise 7 - Create a markdown cell introducing arithmetic expression examples***"
   ]
  },
  {
   "cell_type": "markdown",
   "id": "7e825912-1714-4f79-b728-4fa7cc0d1aab",
   "metadata": {
    "tags": []
   },
   "source": [
    "### Below are a few examples of evaluating arithmetic expressions in Python"
   ]
  },
  {
   "cell_type": "markdown",
   "id": "d49e6920-6fde-477b-ba73-d9f709773e9a",
   "metadata": {},
   "source": [
    "***Exercise 8 - Create a code cell to multiply and add numbers***"
   ]
  },
  {
   "cell_type": "code",
   "execution_count": 3,
   "id": "fe524eca-841c-4a28-8c1b-a542de36dd63",
   "metadata": {
    "tags": []
   },
   "outputs": [
    {
     "data": {
      "text/plain": [
       "17"
      ]
     },
     "execution_count": 3,
     "metadata": {},
     "output_type": "execute_result"
    }
   ],
   "source": [
    "# This a simple arithmetic expression to mutiply then add integers\n",
    "(3*4)+5"
   ]
  },
  {
   "cell_type": "markdown",
   "id": "c05ef71f-b73c-45cc-9d30-a3821d0d4ab9",
   "metadata": {},
   "source": [
    "***Exercise 9 - Create a code cell to convert minutes to hours***"
   ]
  },
  {
   "cell_type": "code",
   "execution_count": 4,
   "id": "3ef05797-99b5-44df-9d2f-f7bb0cd275c4",
   "metadata": {
    "tags": []
   },
   "outputs": [
    {
     "data": {
      "text/plain": [
       "3.3333333333333335"
      ]
     },
     "execution_count": 4,
     "metadata": {},
     "output_type": "execute_result"
    }
   ],
   "source": [
    "# This will convert 200 minutes to hours by diving by 60\n",
    "200 / 60"
   ]
  },
  {
   "cell_type": "markdown",
   "id": "bc5bebec-1543-4b69-8072-c2bf3ff527e6",
   "metadata": {},
   "source": [
    "***Exercise 11 - Create a markdown cell to indicate the Author's name***"
   ]
  },
  {
   "cell_type": "markdown",
   "id": "0183d3a5-7bb0-49c3-b005-a1f9d3f88f69",
   "metadata": {},
   "source": [
    "## Author\n",
    "Valentino"
   ]
  }
 ],
 "metadata": {
  "kernelspec": {
   "display_name": "Python",
   "language": "python",
   "name": "conda-env-python-py"
  },
  "language_info": {
   "codemirror_mode": {
    "name": "ipython",
    "version": 3
   },
   "file_extension": ".py",
   "mimetype": "text/x-python",
   "name": "python",
   "nbconvert_exporter": "python",
   "pygments_lexer": "ipython3",
   "version": "3.7.12"
  }
 },
 "nbformat": 4,
 "nbformat_minor": 5
}
